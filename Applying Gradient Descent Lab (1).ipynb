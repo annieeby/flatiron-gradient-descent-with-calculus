{
 "cells": [
  {
   "cell_type": "code",
   "execution_count": 6,
   "metadata": {},
   "outputs": [],
   "source": [
    "import pandas\n",
    "\n",
    "def parse_file(fileName):\n",
    "    movies_df = pandas.read_csv(fileName)\n",
    "    return movies_df.to_dict('records')\n",
    "\n",
    "movies = parse_file('https://raw.githubusercontent.com/fivethirtyeight/data/master/bechdel/movies.csv')"
   ]
  },
  {
   "cell_type": "code",
   "execution_count": 7,
   "metadata": {},
   "outputs": [
    {
     "data": {
      "text/plain": [
       "list"
      ]
     },
     "execution_count": 7,
     "metadata": {},
     "output_type": "execute_result"
    }
   ],
   "source": [
    "type(movies) # list"
   ]
  },
  {
   "cell_type": "code",
   "execution_count": 8,
   "metadata": {},
   "outputs": [
    {
     "data": {
      "text/plain": [
       "1794"
      ]
     },
     "execution_count": 8,
     "metadata": {},
     "output_type": "execute_result"
    }
   ],
   "source": [
    "len(movies) # 1794"
   ]
  },
  {
   "cell_type": "code",
   "execution_count": 9,
   "metadata": {},
   "outputs": [
    {
     "data": {
      "text/plain": [
       "{'year': 2013,\n",
       " 'imdb': 'tt1711425',\n",
       " 'title': '21 &amp; Over',\n",
       " 'test': 'notalk',\n",
       " 'clean_test': 'notalk',\n",
       " 'binary': 'FAIL',\n",
       " 'budget': 13000000,\n",
       " 'domgross': 25682380.0,\n",
       " 'intgross': 42195766.0,\n",
       " 'code': '2013FAIL',\n",
       " 'budget_2013$': 13000000,\n",
       " 'domgross_2013$': 25682380.0,\n",
       " 'intgross_2013$': 42195766.0,\n",
       " 'period code': 1.0,\n",
       " 'decade code': 1.0}"
      ]
     },
     "execution_count": 9,
     "metadata": {},
     "output_type": "execute_result"
    }
   ],
   "source": [
    "movies[0]\n",
    "\n",
    "# budget_2013$ is the budget adjusted for inflation in 2013 dollars\n",
    "# domgross_2013$ is the domestic revenue adjusted for inflation in 2013 dollars\n",
    "# intgross_2013$ is the international revenue adjusted for inflation in 2013 dollars"
   ]
  },
  {
   "cell_type": "code",
   "execution_count": 37,
   "metadata": {},
   "outputs": [],
   "source": [
    "#Let's remove the movies whose domgross_2013 points to values of nan, which stands for \"not a number\". This data is missing. \n",
    "\n",
    "import math\n",
    "\n",
    "def remove_movies_missing_data(movies):\n",
    "    nan_movies = list(filter(lambda movie: math.isnan(movie['domgross_2013$']), movies))\n",
    "    parsed_movies = list(filter(lambda x: x not in nan_movies, movies))\n",
    "    return parsed_movies\n",
    "\n",
    "# https://stackoverflow.com/questions/2514961/remove-all-values-within-one-list-from-another-list/30353802 "
   ]
  },
  {
   "cell_type": "code",
   "execution_count": 38,
   "metadata": {},
   "outputs": [],
   "source": [
    "parsed_movies = remove_movies_missing_data(movies)"
   ]
  },
  {
   "cell_type": "code",
   "execution_count": 39,
   "metadata": {},
   "outputs": [
    {
     "data": {
      "text/plain": [
       "1776"
      ]
     },
     "execution_count": 39,
     "metadata": {},
     "output_type": "execute_result"
    }
   ],
   "source": [
    "len(parsed_movies)"
   ]
  },
  {
   "cell_type": "code",
   "execution_count": 40,
   "metadata": {},
   "outputs": [
    {
     "data": {
      "text/plain": [
       "[]"
      ]
     },
     "execution_count": 40,
     "metadata": {},
     "output_type": "execute_result"
    }
   ],
   "source": [
    "# we can check to see that no movies with a domgross_2013 value of nan are included.\n",
    "\n",
    "list(filter(lambda movie: math.isnan(movie['domgross_2013$']),parsed_movies)) # []"
   ]
  },
  {
   "cell_type": "code",
   "execution_count": 43,
   "metadata": {},
   "outputs": [
    {
     "data": {
      "text/plain": [
       "13000000"
      ]
     },
     "execution_count": 43,
     "metadata": {},
     "output_type": "execute_result"
    }
   ],
   "source": [
    "# Problem: Currently, our data has some very large numbers. (Hard to deal with/read) e.g.:\n",
    "\n",
    "movies[0]['budget']"
   ]
  },
  {
   "cell_type": "code",
   "execution_count": 92,
   "metadata": {},
   "outputs": [],
   "source": [
    "# To make things simpler, let's divide both our budget and revenue numbers for each movie by 1 million.\n",
    "# do: budget, budget_2013$, domgross, domgross_2013$, intgross, and intgross_2013$ numbers all divided by 1 million and rounded to two decimal places.\n",
    "\n",
    "def scale_down_movie(movie):\n",
    "    selected_keys = ('domgross_2013$', 'budget', 'budget_2013$', 'domgross', 'domgross_2013$', 'intgross', 'intgross_2013$')\n",
    "    for key in selected_keys: \n",
    "        movie[key] = round(movie[key]/1000000, 2)   \n",
    "    return movie"
   ]
  },
  {
   "cell_type": "code",
   "execution_count": 93,
   "metadata": {},
   "outputs": [
    {
     "data": {
      "text/plain": [
       "{'year': 2013,\n",
       " 'imdb': 'tt1815862',\n",
       " 'title': 'After Earth',\n",
       " 'test': 'notalk',\n",
       " 'clean_test': 'notalk',\n",
       " 'binary': 'FAIL',\n",
       " 'budget': 0.0,\n",
       " 'domgross': 0.0,\n",
       " 'intgross': 0.0,\n",
       " 'code': '2013FAIL',\n",
       " 'budget_2013$': 0.0,\n",
       " 'domgross_2013$': 0.0,\n",
       " 'intgross_2013$': 0.0,\n",
       " 'period code': 1.0,\n",
       " 'decade code': 1.0}"
      ]
     },
     "execution_count": 93,
     "metadata": {},
     "output_type": "execute_result"
    }
   ],
   "source": [
    "scale_down_movie(parsed_movies[9])\n",
    "\n",
    "#  {'binary': 'FAIL',\n",
    "#   'budget': 130.0,\n",
    "#   'budget_2013$': 130.0,\n",
    "#   'clean_test': 'notalk',\n",
    "#   'code': '2013FAIL',\n",
    "#   'decade code': 1.0,\n",
    "#   'domgross': 60.52,\n",
    "#   'domgross_2013$': 60.52,\n",
    "#   'imdb': 'tt1815862',\n",
    "#   'intgross': 244.37,\n",
    "#   'intgross_2013$': 244.37,\n",
    "#   'period code': 1.0,\n",
    "#   'test': 'notalk',\n",
    "#   'title': 'After Earth',\n",
    "#   'year': 2013}"
   ]
  },
  {
   "cell_type": "code",
   "execution_count": 94,
   "metadata": {},
   "outputs": [
    {
     "data": {
      "text/plain": [
       "{'year': 2013,\n",
       " 'imdb': 'tt1814621',\n",
       " 'title': 'Admission',\n",
       " 'test': 'ok',\n",
       " 'clean_test': 'ok',\n",
       " 'binary': 'PASS',\n",
       " 'budget': 0.0,\n",
       " 'domgross': 0.0,\n",
       " 'intgross': 0.0,\n",
       " 'code': '2013PASS',\n",
       " 'budget_2013$': 0.0,\n",
       " 'domgross_2013$': 0.0,\n",
       " 'intgross_2013$': 0.0,\n",
       " 'period code': 1.0,\n",
       " 'decade code': 1.0}"
      ]
     },
     "execution_count": 94,
     "metadata": {},
     "output_type": "execute_result"
    }
   ],
   "source": [
    "scale_down_movie(parsed_movies[8])\n",
    "\n",
    "#  {'binary': 'PASS', 'budget': 13.0,\n",
    "#   'budget_2013$': 13.0,\n",
    "#   'clean_test': 'ok',\n",
    "#   'code': '2013PASS',\n",
    "#   'decade code': 1.0,\n",
    "#   'domgross': 18.01,\n",
    "#   'domgross_2013$': 18.01,\n",
    "#   'imdb': 'tt1814621',\n",
    "#   'intgross': 18.01,\n",
    "#   'intgross_2013$': 18.01,\n",
    "#   'period code': 1.0,\n",
    "#   'test': 'ok',\n",
    "#   'title': 'Admission',\n",
    "#   'year': 2013}"
   ]
  },
  {
   "cell_type": "code",
   "execution_count": 86,
   "metadata": {},
   "outputs": [],
   "source": [
    "# Ok, now that we have a function to scale down our movies, lets map through all of our parsed_movies to return a list of scaled_movies.\n",
    "\n",
    "def scale_down_movies(movies):\n",
    "    list(map(lambda movie : scale_down_movie(movie), movies))\n",
    "    return movies"
   ]
  },
  {
   "cell_type": "code",
   "execution_count": 87,
   "metadata": {},
   "outputs": [
    {
     "data": {
      "text/plain": [
       "[{'year': 2013,\n",
       "  'imdb': 'tt1814621',\n",
       "  'title': 'Admission',\n",
       "  'test': 'ok',\n",
       "  'clean_test': 'ok',\n",
       "  'binary': 'PASS',\n",
       "  'budget': 0.0,\n",
       "  'domgross': 0.0,\n",
       "  'intgross': 0.0,\n",
       "  'code': '2013PASS',\n",
       "  'budget_2013$': 0.0,\n",
       "  'domgross_2013$': 0.0,\n",
       "  'intgross_2013$': 0.0,\n",
       "  'period code': 1.0,\n",
       "  'decade code': 1.0},\n",
       " {'year': 2013,\n",
       "  'imdb': 'tt1815862',\n",
       "  'title': 'After Earth',\n",
       "  'test': 'notalk',\n",
       "  'clean_test': 'notalk',\n",
       "  'binary': 'FAIL',\n",
       "  'budget': 0.0,\n",
       "  'domgross': 0.0,\n",
       "  'intgross': 0.0,\n",
       "  'code': '2013FAIL',\n",
       "  'budget_2013$': 0.0,\n",
       "  'domgross_2013$': 0.0,\n",
       "  'intgross_2013$': 0.0,\n",
       "  'period code': 1.0,\n",
       "  'decade code': 1.0}]"
      ]
     },
     "execution_count": 87,
     "metadata": {},
     "output_type": "execute_result"
    }
   ],
   "source": [
    "first_ten_movies = parsed_movies[0:10]\n",
    "first_ten_scaled = scale_down_movies(first_ten_movies) or []\n",
    "first_ten_scaled[-2:]\n",
    "# [{'binary': 'PASS', 'budget': 13.0,\n",
    "#   'budget_2013$': 13.0,\n",
    "#   'clean_test': 'ok',\n",
    "#   'code': '2013PASS',\n",
    "#   'decade code': 1.0,\n",
    "#   'domgross': 18.01,\n",
    "#   'domgross_2013$': 18.01,\n",
    "#   'imdb': 'tt1814621',\n",
    "#   'intgross': 18.01,\n",
    "#   'intgross_2013$': 18.01,\n",
    "#   'period code': 1.0,\n",
    "#   'test': 'ok',\n",
    "#   'title': 'Admission',\n",
    "#   'year': 2013},\n",
    "#  {'binary': 'FAIL',\n",
    "#   'budget': 130.0,\n",
    "#   'budget_2013$': 130.0,\n",
    "#   'clean_test': 'notalk',\n",
    "#   'code': '2013FAIL',\n",
    "#   'decade code': 1.0,\n",
    "#   'domgross': 60.52,\n",
    "#   'domgross_2013$': 60.52,\n",
    "#   'imdb': 'tt1815862',\n",
    "#   'intgross': 244.37,\n",
    "#   'intgross_2013$': 244.37,\n",
    "#   'period code': 1.0,\n",
    "#   'test': 'notalk',\n",
    "#   'title': 'After Earth',\n",
    "#   'year': 2013}]"
   ]
  },
  {
   "cell_type": "code",
   "execution_count": null,
   "metadata": {},
   "outputs": [],
   "source": []
  },
  {
   "cell_type": "code",
   "execution_count": null,
   "metadata": {},
   "outputs": [],
   "source": []
  }
 ],
 "metadata": {
  "kernelspec": {
   "display_name": "Python 3",
   "language": "python",
   "name": "python3"
  },
  "language_info": {
   "codemirror_mode": {
    "name": "ipython",
    "version": 3
   },
   "file_extension": ".py",
   "mimetype": "text/x-python",
   "name": "python",
   "nbconvert_exporter": "python",
   "pygments_lexer": "ipython3",
   "version": "3.6.5"
  }
 },
 "nbformat": 4,
 "nbformat_minor": 2
}
