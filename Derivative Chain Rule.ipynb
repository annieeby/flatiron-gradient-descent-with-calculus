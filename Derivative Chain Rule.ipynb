{
 "cells": [
  {
   "cell_type": "code",
   "execution_count": 1,
   "metadata": {},
   "outputs": [],
   "source": [
    "#f(x)=(.5x+3)^2\n",
    "\n",
    "#can be broken down into two simpler functions\n",
    "\n",
    "#g(x)=.5x+3\n",
    "\n",
    " \n",
    "#f(x)=(g(x))2"
   ]
  },
  {
   "cell_type": "code",
   "execution_count": 3,
   "metadata": {},
   "outputs": [
    {
     "data": {
      "text/plain": [
       "4.0"
      ]
     },
     "execution_count": 3,
     "metadata": {},
     "output_type": "execute_result"
    }
   ],
   "source": [
    "def g_of_x(x):\n",
    "    return .5*x + 3\n",
    "\n",
    "#test\n",
    "g_of_x(2) # 4"
   ]
  },
  {
   "cell_type": "code",
   "execution_count": 4,
   "metadata": {},
   "outputs": [
    {
     "data": {
      "text/plain": [
       "16.0"
      ]
     },
     "execution_count": 4,
     "metadata": {},
     "output_type": "execute_result"
    }
   ],
   "source": [
    "def f_of_x(x):\n",
    "    return (g_of_x(x))**2\n",
    "\n",
    "#test\n",
    "f_of_x(2) # 16"
   ]
  },
  {
   "cell_type": "code",
   "execution_count": 5,
   "metadata": {},
   "outputs": [],
   "source": [
    "#Looking at both the mathematical and code representations of  f(x)f(x)  and  g(x)g(x) , we can see that the  f(x)f(x) function wraps the  g(x)g(x)  function. So let's call  f(x)f(x)  the outer function, and  g(x)g(x)  the inner function.\n",
    "\n",
    "\n",
    "def g_of_x(x):\n",
    "    return .5*x + 3\n",
    "\n",
    "def f_of_x(x): # outer function f(x) \n",
    "    return (g_of_x(x))**2 #inner function g(x)"
   ]
  },
  {
   "cell_type": "code",
   "execution_count": 6,
   "metadata": {},
   "outputs": [
    {
     "data": {
      "text/html": [
       "<script>requirejs.config({paths: { 'plotly': ['https://cdn.plot.ly/plotly-latest.min']},});if(!window.Plotly) {{require(['plotly'],function(plotly) {window.Plotly=plotly;});}}</script>"
      ],
      "text/vnd.plotly.v1+html": [
       "<script>requirejs.config({paths: { 'plotly': ['https://cdn.plot.ly/plotly-latest.min']},});if(!window.Plotly) {{require(['plotly'],function(plotly) {window.Plotly=plotly;});}}</script>"
      ]
     },
     "metadata": {},
     "output_type": "display_data"
    },
    {
     "data": {
      "text/html": [
       "<script>requirejs.config({paths: { 'plotly': ['https://cdn.plot.ly/plotly-latest.min']},});if(!window.Plotly) {{require(['plotly'],function(plotly) {window.Plotly=plotly;});}}</script>"
      ],
      "text/vnd.plotly.v1+html": [
       "<script>requirejs.config({paths: { 'plotly': ['https://cdn.plot.ly/plotly-latest.min']},});if(!window.Plotly) {{require(['plotly'],function(plotly) {window.Plotly=plotly;});}}</script>"
      ]
     },
     "metadata": {},
     "output_type": "display_data"
    },
    {
     "data": {
      "text/html": [
       "<script>requirejs.config({paths: { 'plotly': ['https://cdn.plot.ly/plotly-latest.min']},});if(!window.Plotly) {{require(['plotly'],function(plotly) {window.Plotly=plotly;});}}</script>"
      ],
      "text/vnd.plotly.v1+html": [
       "<script>requirejs.config({paths: { 'plotly': ['https://cdn.plot.ly/plotly-latest.min']},});if(!window.Plotly) {{require(['plotly'],function(plotly) {window.Plotly=plotly;});}}</script>"
      ]
     },
     "metadata": {},
     "output_type": "display_data"
    },
    {
     "data": {
      "application/vnd.plotly.v1+json": {
       "data": [
        {
         "mode": "lines",
         "name": "f(x) = (g(x))^2",
         "text": [],
         "type": "scatter",
         "uid": "21362d74-db25-11e8-9752-34159e1c7ef8",
         "x": [
          0,
          1,
          2,
          3,
          4,
          5,
          6,
          7,
          8,
          9
         ],
         "y": [
          3,
          3.5,
          4,
          4.5,
          5,
          5.5,
          6,
          6.5,
          7,
          7.5
         ]
        },
        {
         "mode": "lines",
         "name": "g(x) = .5*x",
         "text": [],
         "type": "scatter",
         "uid": "2145dfe2-db25-11e8-8e9c-34159e1c7ef8",
         "x": [
          0,
          1,
          2,
          3,
          4,
          5,
          6,
          7,
          8,
          9
         ],
         "y": [
          9,
          12.25,
          16,
          20.25,
          25,
          30.25,
          36,
          42.25,
          49,
          56.25
         ]
        }
       ],
       "layout": {}
      },
      "text/html": [
       "<div id=\"ef17175d-107a-4cd9-b13b-31c8b315433f\" style=\"height: 525px; width: 100%;\" class=\"plotly-graph-div\"></div><script type=\"text/javascript\">require([\"plotly\"], function(Plotly) { window.PLOTLYENV=window.PLOTLYENV || {};window.PLOTLYENV.BASE_URL=\"https://plot.ly\";Plotly.newPlot(\"ef17175d-107a-4cd9-b13b-31c8b315433f\", [{\"mode\": \"lines\", \"name\": \"f(x) = (g(x))^2\", \"text\": [], \"x\": [0, 1, 2, 3, 4, 5, 6, 7, 8, 9], \"y\": [3.0, 3.5, 4.0, 4.5, 5.0, 5.5, 6.0, 6.5, 7.0, 7.5], \"type\": \"scatter\", \"uid\": \"21ef42e4-db25-11e8-ae3e-34159e1c7ef8\"}, {\"mode\": \"lines\", \"name\": \"g(x) = .5*x\", \"text\": [], \"x\": [0, 1, 2, 3, 4, 5, 6, 7, 8, 9], \"y\": [9.0, 12.25, 16.0, 20.25, 25.0, 30.25, 36.0, 42.25, 49.0, 56.25], \"type\": \"scatter\", \"uid\": \"21ef45e6-db25-11e8-a7ff-34159e1c7ef8\"}], {}, {\"showLink\": true, \"linkText\": \"Export to plot.ly\"})});</script>"
      ],
      "text/vnd.plotly.v1+html": [
       "<div id=\"ef17175d-107a-4cd9-b13b-31c8b315433f\" style=\"height: 525px; width: 100%;\" class=\"plotly-graph-div\"></div><script type=\"text/javascript\">require([\"plotly\"], function(Plotly) { window.PLOTLYENV=window.PLOTLYENV || {};window.PLOTLYENV.BASE_URL=\"https://plot.ly\";Plotly.newPlot(\"ef17175d-107a-4cd9-b13b-31c8b315433f\", [{\"mode\": \"lines\", \"name\": \"f(x) = (g(x))^2\", \"text\": [], \"x\": [0, 1, 2, 3, 4, 5, 6, 7, 8, 9], \"y\": [3.0, 3.5, 4.0, 4.5, 5.0, 5.5, 6.0, 6.5, 7.0, 7.5], \"type\": \"scatter\", \"uid\": \"21ef42e4-db25-11e8-ae3e-34159e1c7ef8\"}, {\"mode\": \"lines\", \"name\": \"g(x) = .5*x\", \"text\": [], \"x\": [0, 1, 2, 3, 4, 5, 6, 7, 8, 9], \"y\": [9.0, 12.25, 16.0, 20.25, 25.0, 30.25, 36.0, 42.25, 49.0, 56.25], \"type\": \"scatter\", \"uid\": \"21ef45e6-db25-11e8-a7ff-34159e1c7ef8\"}], {}, {\"showLink\": true, \"linkText\": \"Export to plot.ly\"})});</script>"
      ]
     },
     "metadata": {},
     "output_type": "display_data"
    }
   ],
   "source": [
    "from plotly.offline import iplot, init_notebook_mode\n",
    "init_notebook_mode(connected=True)\n",
    "\n",
    "from graph import trace_values, plot\n",
    "\n",
    "x_values = list(range(0, 10))\n",
    "f_of_x_values = list(map(lambda x: f_of_x(x),x_values))\n",
    "g_of_x_values = list(map(lambda x: g_of_x(x),x_values))\n",
    "f_of_x_trace = trace_values(x_values, f_of_x_values, mode = 'lines', name = 'g(x) = .5*x')\n",
    "g_of_x_trace = trace_values(x_values, g_of_x_values, mode = 'lines', name = 'f(x) = (g(x))^2')\n",
    "plot([g_of_x_trace, f_of_x_trace])"
   ]
  },
  {
   "cell_type": "code",
   "execution_count": 7,
   "metadata": {},
   "outputs": [],
   "source": [
    "#From our rules about derivatives we know that the power rule tells us that the derivative of  g(x)=.5x (i.e. g(x)=.5x^1) is\n",
    "\n",
    "#g′(x)=1∗.5x^0=.5\n"
   ]
  },
  {
   "cell_type": "code",
   "execution_count": 8,
   "metadata": {},
   "outputs": [],
   "source": [
    "#f(x)=(3x^2+10x)^3\n",
    "\n",
    "def g_of_x(x):\n",
    "    return 3*x**2 + 10*x\n",
    "\n",
    "def f_of_x(x):\n",
    "    return (g_of_x(x))**3"
   ]
  },
  {
   "cell_type": "code",
   "execution_count": 9,
   "metadata": {},
   "outputs": [
    {
     "data": {
      "text/html": [
       "<script>requirejs.config({paths: { 'plotly': ['https://cdn.plot.ly/plotly-latest.min']},});if(!window.Plotly) {{require(['plotly'],function(plotly) {window.Plotly=plotly;});}}</script>"
      ],
      "text/vnd.plotly.v1+html": [
       "<script>requirejs.config({paths: { 'plotly': ['https://cdn.plot.ly/plotly-latest.min']},});if(!window.Plotly) {{require(['plotly'],function(plotly) {window.Plotly=plotly;});}}</script>"
      ]
     },
     "metadata": {},
     "output_type": "display_data"
    }
   ],
   "source": [
    "from calculus import derivative_of\n",
    "\n",
    "def derivative_of_f_of_x(x):\n",
    "    return (6*x + 10) * (3*((3*x**2 + 10*x)**2))"
   ]
  }
 ],
 "metadata": {
  "kernelspec": {
   "display_name": "Python 3",
   "language": "python",
   "name": "python3"
  },
  "language_info": {
   "codemirror_mode": {
    "name": "ipython",
    "version": 3
   },
   "file_extension": ".py",
   "mimetype": "text/x-python",
   "name": "python",
   "nbconvert_exporter": "python",
   "pygments_lexer": "ipython3",
   "version": "3.6.5"
  }
 },
 "nbformat": 4,
 "nbformat_minor": 2
}
